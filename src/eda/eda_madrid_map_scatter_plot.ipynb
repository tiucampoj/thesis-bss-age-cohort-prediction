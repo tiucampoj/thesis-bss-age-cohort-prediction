{
 "cells": [
  {
   "cell_type": "code",
   "execution_count": 1,
   "metadata": {},
   "outputs": [],
   "source": [
    "# Load libraries\n",
    "import folium\n",
    "import numpy as np\n",
    "import pandas as pd\n",
    "from sklearn.model_selection import train_test_split\n",
    "import warnings\n",
    "\n",
    "warnings.filterwarnings('ignore')\n",
    "pd.set_option('display.max_columns', None)"
   ]
  },
  {
   "cell_type": "markdown",
   "metadata": {},
   "source": [
    "## Support Functions"
   ]
  },
  {
   "cell_type": "code",
   "execution_count": 2,
   "metadata": {},
   "outputs": [],
   "source": [
    "def plot_value_unplug_trips(value):\n",
    "    \"\"\"\n",
    "    Support function to define color scale for Madrid Bike station map.\n",
    "    \"\"\"\n",
    "    if value < 300:\n",
    "        return 1\n",
    "    elif value >= 300 and value < 800:\n",
    "        return 2\n",
    "    elif value >= 800 and value < 1500:\n",
    "        return 3\n",
    "    elif value >= 1500 and value < 3500:\n",
    "        return 4\n",
    "    elif value >= 3500 and value < 6500:\n",
    "        return 5\n",
    "    else:\n",
    "        return 6"
   ]
  },
  {
   "cell_type": "markdown",
   "metadata": {},
   "source": [
    "## Load Dataset"
   ]
  },
  {
   "cell_type": "code",
   "execution_count": 3,
   "metadata": {},
   "outputs": [],
   "source": [
    "# Load files\n",
    "full_dataset = \"plot_map_bicimad\"\n",
    "\n",
    "bike_full_df = pd.read_csv(full_dataset, header = 0, sep = ';')"
   ]
  },
  {
   "cell_type": "code",
   "execution_count": 4,
   "metadata": {},
   "outputs": [],
   "source": [
    "# Train, test split stratify based on ageRange\n",
    "bike_full_df, bike_full_df_test = train_test_split(bike_full_df, stratify=bike_full_df[\"ageRange\"],test_size=0.20, random_state=123)"
   ]
  },
  {
   "cell_type": "code",
   "execution_count": 5,
   "metadata": {},
   "outputs": [],
   "source": [
    "# Removing Outliers (!Note to be deleted once fixed pipeline)\n",
    "bike_full_df = bike_full_df[bike_full_df['travel_time_min']<=30]"
   ]
  },
  {
   "cell_type": "code",
   "execution_count": null,
   "metadata": {},
   "outputs": [],
   "source": [
    "print(bike_full_df.shape)\n",
    "bike_full_df.head()"
   ]
  },
  {
   "cell_type": "markdown",
   "metadata": {},
   "source": [
    "## Plot BiciMAD Stations"
   ]
  },
  {
   "cell_type": "code",
   "execution_count": 7,
   "metadata": {},
   "outputs": [],
   "source": [
    "# Load Madrid map\n",
    "madrid_bicimad_map = folium.Map(location=[40.4168, -3.7038], zoom_start=12)\n",
    "\n",
    "# Extract unique BiciMAD stations latitude and longitude values from the bike_full_df for year 2019\n",
    "unique_unplug_station = bike_full_df[['idunplug_latitude', 'idunplug_longitude']].drop_duplicates()\n",
    "\n",
    "\n",
    "# Add markers to the map for each unique station location\n",
    "for idx, row in unique_unplug_station.iterrows():\n",
    "    lat, lon = row['idunplug_latitude'], row['idunplug_longitude']\n",
    "    folium.CircleMarker(\n",
    "        location=[lat, lon],\n",
    "        radius=2,  # Adjust the size of the markers as needed\n",
    "        color='black',\n",
    "        fill=True,\n",
    "        fill_color='black'\n",
    "    ).add_to(madrid_bicimad_map)\n",
    "\n",
    "# Create plot custom legend\n",
    "legend_html = '''\n",
    "     <div style=\"position: fixed; \n",
    "                 bottom: 50px; left: 50px; width: 200px; height: 50px; \n",
    "                 border:2px solid grey; z-index:9999; font-size:14px;\n",
    "                 background-color: white;\">\n",
    "     &nbsp; <b>Legend:</b> <br>\n",
    "     &nbsp; <i class=\"fas fa-circle\" style=\"color:black\"></i> BiciMAD Stations (2019) <br>\n",
    "     </div>\n",
    "     '''\n",
    "\n",
    "\n",
    "# Add legend to the map\n",
    "madrid_bicimad_map.get_root().html.add_child(folium.Element(legend_html))\n",
    "\n",
    "# Save the BiciMAD station map as an HTML file\n",
    "madrid_bicimad_map.save('madrid_bicimad_stations.html')\n"
   ]
  },
  {
   "cell_type": "markdown",
   "metadata": {},
   "source": [
    "## Plot BiciMAD Generated Trips from Unplug stations by ageRange"
   ]
  },
  {
   "cell_type": "markdown",
   "metadata": {},
   "source": [
    "### Plot Age Group 3: "
   ]
  },
  {
   "cell_type": "code",
   "execution_count": 7,
   "metadata": {},
   "outputs": [],
   "source": [
    "# Filter dataframe based on relevant Age Group: 3\n",
    "bike_age_3_df =  bike_full_df[bike_full_df[\"ageRange\"].isin([3])]"
   ]
  },
  {
   "cell_type": "code",
   "execution_count": null,
   "metadata": {},
   "outputs": [],
   "source": [
    "# Grouping by idunplug_latitude and idunplug_longitude and counting occurrences\n",
    "tot_trips_unplug_3 = bike_age_3_df.groupby(['idunplug_latitude', 'idunplug_longitude']).size().reset_index(name='tot_trips')\n",
    "\n",
    "# Add support plot_val col to be used for defining color in viz.\n",
    "tot_trips_unplug_3['plot_val'] = tot_trips_unplug_3['tot_trips'].apply(plot_value_unplug_trips)\n",
    "\n",
    "# Displaying tot. trips per station for selected AgeGroup\n",
    "display(tot_trips_unplug_3)"
   ]
  },
  {
   "cell_type": "code",
   "execution_count": null,
   "metadata": {},
   "outputs": [],
   "source": [
    "# Tot. # trips by age group for year 2019\n",
    "tot_trips_unplug_3['tot_trips'].sum()"
   ]
  },
  {
   "cell_type": "code",
   "execution_count": null,
   "metadata": {},
   "outputs": [],
   "source": [
    "# Tot. trips distribution per station by age group \n",
    "tot_trips_unplug_3.describe()"
   ]
  },
  {
   "cell_type": "code",
   "execution_count": 11,
   "metadata": {},
   "outputs": [],
   "source": [
    "# Load Madrid map\n",
    "madrid_map_age_3 = folium.Map(location=[40.4168, -3.7038], zoom_start=12)\n",
    "\n",
    "# Extract latitude, longitude, and plot_val values from the tot_trips_unplug dataframe\n",
    "latitudes = tot_trips_unplug_3['idunplug_latitude'].values\n",
    "longitudes = tot_trips_unplug_3['idunplug_longitude'].values\n",
    "values = tot_trips_unplug_3['plot_val'].values\n",
    "\n",
    "# Define color scale based on the rules provided\n",
    "color_scale = folium.StepColormap(\n",
    "    colors=['gray', 'blue', 'green', 'yellow', 'red', 'purple','black'],\n",
    "    index=[1, 2, 3, 4, 5, 6, 7],\n",
    "    vmin=min(values),\n",
    "    vmax=max(values),\n",
    "    caption='Color Scale'\n",
    ")\n",
    "\n",
    "# Add markers to the map\n",
    "for lat, lon, value in zip(latitudes, longitudes, values):\n",
    "    folium.CircleMarker(\n",
    "        location=[lat, lon],\n",
    "        radius=5,  # Adjust the size of the markers as needed\n",
    "        color=color_scale(value),\n",
    "        fill=True,\n",
    "        fill_color=color_scale(value),\n",
    "        fill_opacity=0.7,\n",
    "        popup=f'Value: {value}'\n",
    "    ).add_to(madrid_map_age_3)\n",
    "\n",
    "# Create a custom legend\n",
    "legend_html = '''\n",
    "     <div style=\"position: fixed; \n",
    "                 bottom: 50px; left: 50px; width: 340px; height: 160px; \n",
    "                 border:2px solid grey; z-index:9999; font-size:14px;\n",
    "                 background-color: white;\">\n",
    "        <div style=\"text-align: center;\">\n",
    "            &nbsp; <b>Age Cohort 3 (2019)</b>\n",
    "        </div>\n",
    "     &nbsp; <u>Total Trip generated per unplug station:</u> <br>\n",
    "     &nbsp; <i class=\"fas fa-circle\" style=\"color:gray\"></i> Total Trips < 300 <br>\n",
    "     &nbsp; <i class=\"fas fa-circle\" style=\"color:blue\"></i> 300 <= Total Trips < 800 <br>\n",
    "     &nbsp; <i class=\"fas fa-circle\" style=\"color:green\"></i> 800 <= Total Trips < 1500 <br>\n",
    "     &nbsp; <i class=\"fas fa-circle\" style=\"color:yellow\"></i> 1500 <= Total Trips < 3500 <br>\n",
    "     &nbsp; <i class=\"fas fa-circle\" style=\"color:red\"></i> 3500 <= Total Trips < 6500 <br>\n",
    "     &nbsp; <i class=\"fas fa-circle\" style=\"color:purple\"></i> Total Trips >= 6500 <br>\n",
    "     </div>\n",
    "     '''\n",
    "\n",
    "# Add legend to the map\n",
    "madrid_map_age_3.get_root().html.add_child(folium.Element(legend_html))\n",
    "\n",
    "# Save the map as an HTML file\n",
    "madrid_map_age_3.save('madrid_trip_generated_age_cohort_3.html')\n"
   ]
  },
  {
   "cell_type": "markdown",
   "metadata": {},
   "source": [
    "### Plot Age Group 4:"
   ]
  },
  {
   "cell_type": "code",
   "execution_count": 12,
   "metadata": {},
   "outputs": [],
   "source": [
    "# Filter dataframe based on relevant Age Group: 4\n",
    "bike_age_4_df =  bike_full_df[bike_full_df[\"ageRange\"].isin([4])]"
   ]
  },
  {
   "cell_type": "code",
   "execution_count": null,
   "metadata": {},
   "outputs": [],
   "source": [
    "# Grouping by idunplug_latitude and idunplug_longitude and counting occurrences\n",
    "tot_trips_unplug_4 = bike_age_4_df.groupby(['idunplug_latitude', 'idunplug_longitude']).size().reset_index(name='tot_trips')\n",
    "\n",
    "# Add support plot_val col to be used for defining color in viz.\n",
    "tot_trips_unplug_4['plot_val'] = tot_trips_unplug_4['tot_trips'].apply(plot_value_unplug_trips)\n",
    "\n",
    "# Displaying tot. trips per station for selected AgeGroup\n",
    "display(tot_trips_unplug_4)"
   ]
  },
  {
   "cell_type": "code",
   "execution_count": null,
   "metadata": {},
   "outputs": [],
   "source": [
    "# Tot. # trips by age group for year 2019\n",
    "tot_trips_unplug_4['tot_trips'].sum()"
   ]
  },
  {
   "cell_type": "code",
   "execution_count": null,
   "metadata": {},
   "outputs": [],
   "source": [
    "# Tot. trips distribution per station by age group \n",
    "tot_trips_unplug_4.describe()"
   ]
  },
  {
   "cell_type": "code",
   "execution_count": 16,
   "metadata": {},
   "outputs": [],
   "source": [
    "# Load Madrid map\n",
    "madrid_map_age_4 = folium.Map(location=[40.4168, -3.7038], zoom_start=12)\n",
    "\n",
    "# Extract latitude, longitude, and plot_val values from the tot_trips_unplug dataframe\n",
    "latitudes = tot_trips_unplug_4['idunplug_latitude'].values\n",
    "longitudes = tot_trips_unplug_4['idunplug_longitude'].values\n",
    "values = tot_trips_unplug_4['plot_val'].values\n",
    "\n",
    "# Define color scale based on the rules provided\n",
    "color_scale = folium.StepColormap(\n",
    "    colors=['gray', 'blue', 'green', 'yellow', 'red', 'purple','black'],\n",
    "    index=[1, 2, 3, 4, 5, 6, 7],\n",
    "    vmin=min(values),\n",
    "    vmax=max(values),\n",
    "    caption='Color Scale'\n",
    ")\n",
    "\n",
    "# Add markers to the map\n",
    "for lat, lon, value in zip(latitudes, longitudes, values):\n",
    "    folium.CircleMarker(\n",
    "        location=[lat, lon],\n",
    "        radius=5,  \n",
    "        color=color_scale(value),\n",
    "        fill=True,\n",
    "        fill_color=color_scale(value),\n",
    "        fill_opacity=0.7,\n",
    "        popup=f'Value: {value}'\n",
    "    ).add_to(madrid_map_age_4)\n",
    "\n",
    "# Create a custom legend\n",
    "legend_html = '''\n",
    "     <div style=\"position: fixed; \n",
    "                 bottom: 50px; left: 50px; width: 340px; height: 160px; \n",
    "                 border:2px solid grey; z-index:9999; font-size:14px;\n",
    "                 background-color: white;\">\n",
    "        <div style=\"text-align: center;\">\n",
    "            &nbsp; <b>Age Cohort 4 (2019)</b>\n",
    "        </div>\n",
    "     &nbsp; <u>Total Trip generated per unplug station:</u> <br>\n",
    "     &nbsp; <i class=\"fas fa-circle\" style=\"color:gray\"></i> Total Trips < 300 <br>\n",
    "     &nbsp; <i class=\"fas fa-circle\" style=\"color:blue\"></i> 300 <= Total Trips < 800 <br>\n",
    "     &nbsp; <i class=\"fas fa-circle\" style=\"color:green\"></i> 800 <= Total Trips < 1500 <br>\n",
    "     &nbsp; <i class=\"fas fa-circle\" style=\"color:yellow\"></i> 1500 <= Total Trips < 3500 <br>\n",
    "     &nbsp; <i class=\"fas fa-circle\" style=\"color:red\"></i> 3500 <= Total Trips < 6500 <br>\n",
    "     &nbsp; <i class=\"fas fa-circle\" style=\"color:purple\"></i> Total Trips >= 6500 <br>\n",
    "     </div>\n",
    "     '''\n",
    "\n",
    "# Add legend to the map\n",
    "madrid_map_age_4.get_root().html.add_child(folium.Element(legend_html))\n",
    "\n",
    "# Save the map as an HTML file\n",
    "madrid_map_age_4.save('madrid_trip_generated_age_cohort_4.html')\n"
   ]
  },
  {
   "cell_type": "markdown",
   "metadata": {},
   "source": [
    "### Plot Age Group 5:"
   ]
  },
  {
   "cell_type": "code",
   "execution_count": 17,
   "metadata": {},
   "outputs": [],
   "source": [
    "# Filter dataframe based on relevant Age Group: 5\n",
    "bike_age_5_df =  bike_full_df[bike_full_df[\"ageRange\"].isin([5])]"
   ]
  },
  {
   "cell_type": "code",
   "execution_count": null,
   "metadata": {},
   "outputs": [],
   "source": [
    "# Grouping by idunplug_latitude and idunplug_longitude and counting occurrences\n",
    "tot_trips_unplug_5 = bike_age_5_df.groupby(['idunplug_latitude', 'idunplug_longitude']).size().reset_index(name='tot_trips')\n",
    "\n",
    "# Add support plot_val col to be used for defining color in viz.\n",
    "tot_trips_unplug_5['plot_val'] = tot_trips_unplug_5['tot_trips'].apply(plot_value_unplug_trips)\n",
    "\n",
    "# Displaying tot. trips per station for selected AgeGroup\n",
    "display(tot_trips_unplug_5)"
   ]
  },
  {
   "cell_type": "code",
   "execution_count": null,
   "metadata": {},
   "outputs": [],
   "source": [
    "# Tot. # trips by age group for year 2019\n",
    "tot_trips_unplug_5['tot_trips'].sum()"
   ]
  },
  {
   "cell_type": "code",
   "execution_count": null,
   "metadata": {},
   "outputs": [],
   "source": [
    "# Tot. trips distribution per station by age group \n",
    "tot_trips_unplug_5.describe()"
   ]
  },
  {
   "cell_type": "code",
   "execution_count": 21,
   "metadata": {},
   "outputs": [],
   "source": [
    "# Load Madrid map\n",
    "madrid_map_age_5 = folium.Map(location=[40.4168, -3.7038], zoom_start=12)\n",
    "\n",
    "# Extract latitude, longitude, and plot_val values from the tot_trips_unplug dataframe\n",
    "latitudes = tot_trips_unplug_5['idunplug_latitude'].values\n",
    "longitudes = tot_trips_unplug_5['idunplug_longitude'].values\n",
    "values = tot_trips_unplug_5['plot_val'].values\n",
    "\n",
    "# Define color scale based on the rules provided\n",
    "color_scale = folium.StepColormap(\n",
    "    colors=['gray', 'blue', 'green', 'yellow', 'red', 'purple','black'],\n",
    "    index=[1, 2, 3, 4, 5, 6, 7],\n",
    "    vmin=min(values),\n",
    "    vmax=max(values),\n",
    "    caption='Color Scale'\n",
    ")\n",
    "\n",
    "# Add markers to the map\n",
    "for lat, lon, value in zip(latitudes, longitudes, values):\n",
    "    folium.CircleMarker(\n",
    "        location=[lat, lon],\n",
    "        radius=5,  \n",
    "        color=color_scale(value),\n",
    "        fill=True,\n",
    "        fill_color=color_scale(value),\n",
    "        fill_opacity=0.7,\n",
    "        popup=f'Value: {value}'\n",
    "    ).add_to(madrid_map_age_5)\n",
    "\n",
    "# Create a custom legend\n",
    "legend_html = '''\n",
    "     <div style=\"position: fixed; \n",
    "                 bottom: 50px; left: 50px; width: 340px; height: 160px; \n",
    "                 border:2px solid grey; z-index:9999; font-size:14px;\n",
    "                 background-color: white;\">\n",
    "        <div style=\"text-align: center;\">\n",
    "            &nbsp; <b>Age Cohort 5 (2019)</b>\n",
    "        </div>\n",
    "     &nbsp; <u>Total Trip generated per unplug station:</u> <br>\n",
    "     &nbsp; <i class=\"fas fa-circle\" style=\"color:gray\"></i> Total Trips < 300 <br>\n",
    "     &nbsp; <i class=\"fas fa-circle\" style=\"color:blue\"></i> 300 <= Total Trips < 800 <br>\n",
    "     &nbsp; <i class=\"fas fa-circle\" style=\"color:green\"></i> 800 <= Total Trips < 1500 <br>\n",
    "     &nbsp; <i class=\"fas fa-circle\" style=\"color:yellow\"></i> 1500 <= Total Trips < 3500 <br>\n",
    "     &nbsp; <i class=\"fas fa-circle\" style=\"color:red\"></i> 3500 <= Total Trips < 6500 <br>\n",
    "     &nbsp; <i class=\"fas fa-circle\" style=\"color:purple\"></i> Total Trips >= 6500 <br>\n",
    "     </div>\n",
    "     '''\n",
    "\n",
    "# Add legend to the map\n",
    "madrid_map_age_5.get_root().html.add_child(folium.Element(legend_html))\n",
    "\n",
    "# Save the map as an HTML file\n",
    "madrid_map_age_5.save('madrid_trip_generated_age_cohort_5.html')\n"
   ]
  }
 ],
 "metadata": {
  "kernelspec": {
   "display_name": "dst",
   "language": "python",
   "name": "python3"
  },
  "language_info": {
   "codemirror_mode": {
    "name": "ipython",
    "version": 3
   },
   "file_extension": ".py",
   "mimetype": "text/x-python",
   "name": "python",
   "nbconvert_exporter": "python",
   "pygments_lexer": "ipython3",
   "version": "3.12.0"
  }
 },
 "nbformat": 4,
 "nbformat_minor": 2
}
